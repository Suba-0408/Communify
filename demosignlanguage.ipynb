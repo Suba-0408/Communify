{
  "nbformat": 4,
  "nbformat_minor": 0,
  "metadata": {
    "colab": {
      "provenance": [],
      "authorship_tag": "ABX9TyMkkzws9zGTO6wznrlDknzM",
      "include_colab_link": true
    },
    "kernelspec": {
      "name": "python3",
      "display_name": "Python 3"
    },
    "language_info": {
      "name": "python"
    }
  },
  "cells": [
    {
      "cell_type": "markdown",
      "metadata": {
        "id": "view-in-github",
        "colab_type": "text"
      },
      "source": [
        "<a href=\"https://colab.research.google.com/github/Suba-0408/Communify/blob/main/demosignlanguage.ipynb\" target=\"_parent\"><img src=\"https://colab.research.google.com/assets/colab-badge.svg\" alt=\"Open In Colab\"/></a>"
      ]
    },
    {
      "cell_type": "code",
      "execution_count": 1,
      "metadata": {
        "colab": {
          "base_uri": "https://localhost:8080/"
        },
        "id": "g0dlfdk_ftGh",
        "outputId": "f4aa0852-b91c-491e-8a9e-6142cb217b8a"
      },
      "outputs": [
        {
          "output_type": "stream",
          "name": "stdout",
          "text": [
            "Mounted at /content/drive\n"
          ]
        }
      ],
      "source": [
        "from google.colab import drive\n",
        "drive.mount('/content/drive')\n"
      ]
    },
    {
      "cell_type": "code",
      "source": [
        "dataset_path = \"/content/drive/MyDrive/ISL/images for phrases/images for phrases\"\n"
      ],
      "metadata": {
        "id": "kM8qXsMZgM-p"
      },
      "execution_count": 2,
      "outputs": []
    },
    {
      "cell_type": "code",
      "source": [
        "import tensorflow as tf\n",
        "from tensorflow.keras.preprocessing.image import ImageDataGenerator\n",
        "\n",
        "img_size = (128, 128)\n",
        "batch_size = 32\n",
        "\n",
        "datagen = ImageDataGenerator(\n",
        "    rescale=1./255,\n",
        "    validation_split=0.2  # 80% train, 20% validation\n",
        ")\n",
        "\n",
        "train_generator = datagen.flow_from_directory(\n",
        "    dataset_path,\n",
        "    target_size=img_size,\n",
        "    batch_size=batch_size,\n",
        "    class_mode=\"categorical\",\n",
        "    subset=\"training\"\n",
        ")\n",
        "\n",
        "val_generator = datagen.flow_from_directory(\n",
        "    dataset_path,\n",
        "    target_size=img_size,\n",
        "    batch_size=batch_size,\n",
        "    class_mode=\"categorical\",\n",
        "    subset=\"validation\"\n",
        ")\n",
        "\n",
        "num_classes = len(train_generator.class_indices)\n",
        "print(\"Number of classes:\", num_classes)\n",
        "print(\"Classes:\", train_generator.class_indices)"
      ],
      "metadata": {
        "colab": {
          "base_uri": "https://localhost:8080/"
        },
        "id": "jTg_VQjFhCxz",
        "outputId": "71fe1c13-94fa-46b4-99a9-fc67d3eb05f3"
      },
      "execution_count": 3,
      "outputs": [
        {
          "output_type": "stream",
          "name": "stdout",
          "text": [
            "Found 1408 images belonging to 44 classes.\n",
            "Found 352 images belonging to 44 classes.\n",
            "Number of classes: 44\n",
            "Classes: {'again': 0, 'agree': 1, 'answer': 2, 'attendance': 3, 'book': 4, 'break': 5, 'careful': 6, 'change': 7, 'chat': 8, 'congratulations': 9, 'email': 10, 'file': 11, 'good morning': 12, 'happy birthday': 13, 'home': 14, 'how are you': 15, 'hungry': 16, 'i need help': 17, 'join': 18, 'keepsmile': 19, 'meet': 20, 'mistake': 21, 'open': 22, 'opinion': 23, 'pass': 24, 'please': 25, 'practice': 26, 'pressure': 27, 'problem': 28, 'questions': 29, 'remember': 30, 'seat': 31, 'shift': 32, 'sick': 33, 'stop': 34, 'sun': 35, 'team': 36, 'thirsty': 37, 'this': 38, 'together': 39, 'understand': 40, 'wait': 41, 'where': 42, 'write': 43}\n"
          ]
        }
      ]
    },
    {
      "cell_type": "code",
      "source": [
        "\n",
        "from tensorflow.keras import layers, models\n",
        "\n",
        "model = models.Sequential([\n",
        "    layers.Conv2D(32, (3,3), activation='relu', input_shape=(128,128,3)),\n",
        "    layers.MaxPooling2D(2,2),\n",
        "\n",
        "    layers.Conv2D(64, (3,3), activation='relu'),\n",
        "    layers.MaxPooling2D(2,2),\n",
        "\n",
        "    layers.Conv2D(128, (3,3), activation='relu'),\n",
        "    layers.MaxPooling2D(2,2),\n",
        "\n",
        "    layers.Flatten(),\n",
        "    layers.Dense(128, activation='relu'),\n",
        "    layers.Dropout(0.5),\n",
        "    layers.Dense(num_classes, activation='softmax')\n",
        "])\n",
        "\n",
        "model.compile(optimizer='adam',\n",
        "              loss='categorical_crossentropy',\n",
        "              metrics=['accuracy'])\n",
        "\n",
        "model.summary()\n",
        "\n",
        "\n"
      ],
      "metadata": {
        "colab": {
          "base_uri": "https://localhost:8080/",
          "height": 504
        },
        "id": "PPggctjJheAR",
        "outputId": "a97e1659-080f-41eb-d958-933f05610c9f"
      },
      "execution_count": 4,
      "outputs": [
        {
          "output_type": "stream",
          "name": "stderr",
          "text": [
            "/usr/local/lib/python3.12/dist-packages/keras/src/layers/convolutional/base_conv.py:113: UserWarning: Do not pass an `input_shape`/`input_dim` argument to a layer. When using Sequential models, prefer using an `Input(shape)` object as the first layer in the model instead.\n",
            "  super().__init__(activity_regularizer=activity_regularizer, **kwargs)\n"
          ]
        },
        {
          "output_type": "display_data",
          "data": {
            "text/plain": [
              "\u001b[1mModel: \"sequential\"\u001b[0m\n"
            ],
            "text/html": [
              "<pre style=\"white-space:pre;overflow-x:auto;line-height:normal;font-family:Menlo,'DejaVu Sans Mono',consolas,'Courier New',monospace\"><span style=\"font-weight: bold\">Model: \"sequential\"</span>\n",
              "</pre>\n"
            ]
          },
          "metadata": {}
        },
        {
          "output_type": "display_data",
          "data": {
            "text/plain": [
              "┏━━━━━━━━━━━━━━━━━━━━━━━━━━━━━━━━━┳━━━━━━━━━━━━━━━━━━━━━━━━┳━━━━━━━━━━━━━━━┓\n",
              "┃\u001b[1m \u001b[0m\u001b[1mLayer (type)                   \u001b[0m\u001b[1m \u001b[0m┃\u001b[1m \u001b[0m\u001b[1mOutput Shape          \u001b[0m\u001b[1m \u001b[0m┃\u001b[1m \u001b[0m\u001b[1m      Param #\u001b[0m\u001b[1m \u001b[0m┃\n",
              "┡━━━━━━━━━━━━━━━━━━━━━━━━━━━━━━━━━╇━━━━━━━━━━━━━━━━━━━━━━━━╇━━━━━━━━━━━━━━━┩\n",
              "│ conv2d (\u001b[38;5;33mConv2D\u001b[0m)                 │ (\u001b[38;5;45mNone\u001b[0m, \u001b[38;5;34m126\u001b[0m, \u001b[38;5;34m126\u001b[0m, \u001b[38;5;34m32\u001b[0m)   │           \u001b[38;5;34m896\u001b[0m │\n",
              "├─────────────────────────────────┼────────────────────────┼───────────────┤\n",
              "│ max_pooling2d (\u001b[38;5;33mMaxPooling2D\u001b[0m)    │ (\u001b[38;5;45mNone\u001b[0m, \u001b[38;5;34m63\u001b[0m, \u001b[38;5;34m63\u001b[0m, \u001b[38;5;34m32\u001b[0m)     │             \u001b[38;5;34m0\u001b[0m │\n",
              "├─────────────────────────────────┼────────────────────────┼───────────────┤\n",
              "│ conv2d_1 (\u001b[38;5;33mConv2D\u001b[0m)               │ (\u001b[38;5;45mNone\u001b[0m, \u001b[38;5;34m61\u001b[0m, \u001b[38;5;34m61\u001b[0m, \u001b[38;5;34m64\u001b[0m)     │        \u001b[38;5;34m18,496\u001b[0m │\n",
              "├─────────────────────────────────┼────────────────────────┼───────────────┤\n",
              "│ max_pooling2d_1 (\u001b[38;5;33mMaxPooling2D\u001b[0m)  │ (\u001b[38;5;45mNone\u001b[0m, \u001b[38;5;34m30\u001b[0m, \u001b[38;5;34m30\u001b[0m, \u001b[38;5;34m64\u001b[0m)     │             \u001b[38;5;34m0\u001b[0m │\n",
              "├─────────────────────────────────┼────────────────────────┼───────────────┤\n",
              "│ conv2d_2 (\u001b[38;5;33mConv2D\u001b[0m)               │ (\u001b[38;5;45mNone\u001b[0m, \u001b[38;5;34m28\u001b[0m, \u001b[38;5;34m28\u001b[0m, \u001b[38;5;34m128\u001b[0m)    │        \u001b[38;5;34m73,856\u001b[0m │\n",
              "├─────────────────────────────────┼────────────────────────┼───────────────┤\n",
              "│ max_pooling2d_2 (\u001b[38;5;33mMaxPooling2D\u001b[0m)  │ (\u001b[38;5;45mNone\u001b[0m, \u001b[38;5;34m14\u001b[0m, \u001b[38;5;34m14\u001b[0m, \u001b[38;5;34m128\u001b[0m)    │             \u001b[38;5;34m0\u001b[0m │\n",
              "├─────────────────────────────────┼────────────────────────┼───────────────┤\n",
              "│ flatten (\u001b[38;5;33mFlatten\u001b[0m)               │ (\u001b[38;5;45mNone\u001b[0m, \u001b[38;5;34m25088\u001b[0m)          │             \u001b[38;5;34m0\u001b[0m │\n",
              "├─────────────────────────────────┼────────────────────────┼───────────────┤\n",
              "│ dense (\u001b[38;5;33mDense\u001b[0m)                   │ (\u001b[38;5;45mNone\u001b[0m, \u001b[38;5;34m128\u001b[0m)            │     \u001b[38;5;34m3,211,392\u001b[0m │\n",
              "├─────────────────────────────────┼────────────────────────┼───────────────┤\n",
              "│ dropout (\u001b[38;5;33mDropout\u001b[0m)               │ (\u001b[38;5;45mNone\u001b[0m, \u001b[38;5;34m128\u001b[0m)            │             \u001b[38;5;34m0\u001b[0m │\n",
              "├─────────────────────────────────┼────────────────────────┼───────────────┤\n",
              "│ dense_1 (\u001b[38;5;33mDense\u001b[0m)                 │ (\u001b[38;5;45mNone\u001b[0m, \u001b[38;5;34m44\u001b[0m)             │         \u001b[38;5;34m5,676\u001b[0m │\n",
              "└─────────────────────────────────┴────────────────────────┴───────────────┘\n"
            ],
            "text/html": [
              "<pre style=\"white-space:pre;overflow-x:auto;line-height:normal;font-family:Menlo,'DejaVu Sans Mono',consolas,'Courier New',monospace\">┏━━━━━━━━━━━━━━━━━━━━━━━━━━━━━━━━━┳━━━━━━━━━━━━━━━━━━━━━━━━┳━━━━━━━━━━━━━━━┓\n",
              "┃<span style=\"font-weight: bold\"> Layer (type)                    </span>┃<span style=\"font-weight: bold\"> Output Shape           </span>┃<span style=\"font-weight: bold\">       Param # </span>┃\n",
              "┡━━━━━━━━━━━━━━━━━━━━━━━━━━━━━━━━━╇━━━━━━━━━━━━━━━━━━━━━━━━╇━━━━━━━━━━━━━━━┩\n",
              "│ conv2d (<span style=\"color: #0087ff; text-decoration-color: #0087ff\">Conv2D</span>)                 │ (<span style=\"color: #00d7ff; text-decoration-color: #00d7ff\">None</span>, <span style=\"color: #00af00; text-decoration-color: #00af00\">126</span>, <span style=\"color: #00af00; text-decoration-color: #00af00\">126</span>, <span style=\"color: #00af00; text-decoration-color: #00af00\">32</span>)   │           <span style=\"color: #00af00; text-decoration-color: #00af00\">896</span> │\n",
              "├─────────────────────────────────┼────────────────────────┼───────────────┤\n",
              "│ max_pooling2d (<span style=\"color: #0087ff; text-decoration-color: #0087ff\">MaxPooling2D</span>)    │ (<span style=\"color: #00d7ff; text-decoration-color: #00d7ff\">None</span>, <span style=\"color: #00af00; text-decoration-color: #00af00\">63</span>, <span style=\"color: #00af00; text-decoration-color: #00af00\">63</span>, <span style=\"color: #00af00; text-decoration-color: #00af00\">32</span>)     │             <span style=\"color: #00af00; text-decoration-color: #00af00\">0</span> │\n",
              "├─────────────────────────────────┼────────────────────────┼───────────────┤\n",
              "│ conv2d_1 (<span style=\"color: #0087ff; text-decoration-color: #0087ff\">Conv2D</span>)               │ (<span style=\"color: #00d7ff; text-decoration-color: #00d7ff\">None</span>, <span style=\"color: #00af00; text-decoration-color: #00af00\">61</span>, <span style=\"color: #00af00; text-decoration-color: #00af00\">61</span>, <span style=\"color: #00af00; text-decoration-color: #00af00\">64</span>)     │        <span style=\"color: #00af00; text-decoration-color: #00af00\">18,496</span> │\n",
              "├─────────────────────────────────┼────────────────────────┼───────────────┤\n",
              "│ max_pooling2d_1 (<span style=\"color: #0087ff; text-decoration-color: #0087ff\">MaxPooling2D</span>)  │ (<span style=\"color: #00d7ff; text-decoration-color: #00d7ff\">None</span>, <span style=\"color: #00af00; text-decoration-color: #00af00\">30</span>, <span style=\"color: #00af00; text-decoration-color: #00af00\">30</span>, <span style=\"color: #00af00; text-decoration-color: #00af00\">64</span>)     │             <span style=\"color: #00af00; text-decoration-color: #00af00\">0</span> │\n",
              "├─────────────────────────────────┼────────────────────────┼───────────────┤\n",
              "│ conv2d_2 (<span style=\"color: #0087ff; text-decoration-color: #0087ff\">Conv2D</span>)               │ (<span style=\"color: #00d7ff; text-decoration-color: #00d7ff\">None</span>, <span style=\"color: #00af00; text-decoration-color: #00af00\">28</span>, <span style=\"color: #00af00; text-decoration-color: #00af00\">28</span>, <span style=\"color: #00af00; text-decoration-color: #00af00\">128</span>)    │        <span style=\"color: #00af00; text-decoration-color: #00af00\">73,856</span> │\n",
              "├─────────────────────────────────┼────────────────────────┼───────────────┤\n",
              "│ max_pooling2d_2 (<span style=\"color: #0087ff; text-decoration-color: #0087ff\">MaxPooling2D</span>)  │ (<span style=\"color: #00d7ff; text-decoration-color: #00d7ff\">None</span>, <span style=\"color: #00af00; text-decoration-color: #00af00\">14</span>, <span style=\"color: #00af00; text-decoration-color: #00af00\">14</span>, <span style=\"color: #00af00; text-decoration-color: #00af00\">128</span>)    │             <span style=\"color: #00af00; text-decoration-color: #00af00\">0</span> │\n",
              "├─────────────────────────────────┼────────────────────────┼───────────────┤\n",
              "│ flatten (<span style=\"color: #0087ff; text-decoration-color: #0087ff\">Flatten</span>)               │ (<span style=\"color: #00d7ff; text-decoration-color: #00d7ff\">None</span>, <span style=\"color: #00af00; text-decoration-color: #00af00\">25088</span>)          │             <span style=\"color: #00af00; text-decoration-color: #00af00\">0</span> │\n",
              "├─────────────────────────────────┼────────────────────────┼───────────────┤\n",
              "│ dense (<span style=\"color: #0087ff; text-decoration-color: #0087ff\">Dense</span>)                   │ (<span style=\"color: #00d7ff; text-decoration-color: #00d7ff\">None</span>, <span style=\"color: #00af00; text-decoration-color: #00af00\">128</span>)            │     <span style=\"color: #00af00; text-decoration-color: #00af00\">3,211,392</span> │\n",
              "├─────────────────────────────────┼────────────────────────┼───────────────┤\n",
              "│ dropout (<span style=\"color: #0087ff; text-decoration-color: #0087ff\">Dropout</span>)               │ (<span style=\"color: #00d7ff; text-decoration-color: #00d7ff\">None</span>, <span style=\"color: #00af00; text-decoration-color: #00af00\">128</span>)            │             <span style=\"color: #00af00; text-decoration-color: #00af00\">0</span> │\n",
              "├─────────────────────────────────┼────────────────────────┼───────────────┤\n",
              "│ dense_1 (<span style=\"color: #0087ff; text-decoration-color: #0087ff\">Dense</span>)                 │ (<span style=\"color: #00d7ff; text-decoration-color: #00d7ff\">None</span>, <span style=\"color: #00af00; text-decoration-color: #00af00\">44</span>)             │         <span style=\"color: #00af00; text-decoration-color: #00af00\">5,676</span> │\n",
              "└─────────────────────────────────┴────────────────────────┴───────────────┘\n",
              "</pre>\n"
            ]
          },
          "metadata": {}
        },
        {
          "output_type": "display_data",
          "data": {
            "text/plain": [
              "\u001b[1m Total params: \u001b[0m\u001b[38;5;34m3,310,316\u001b[0m (12.63 MB)\n"
            ],
            "text/html": [
              "<pre style=\"white-space:pre;overflow-x:auto;line-height:normal;font-family:Menlo,'DejaVu Sans Mono',consolas,'Courier New',monospace\"><span style=\"font-weight: bold\"> Total params: </span><span style=\"color: #00af00; text-decoration-color: #00af00\">3,310,316</span> (12.63 MB)\n",
              "</pre>\n"
            ]
          },
          "metadata": {}
        },
        {
          "output_type": "display_data",
          "data": {
            "text/plain": [
              "\u001b[1m Trainable params: \u001b[0m\u001b[38;5;34m3,310,316\u001b[0m (12.63 MB)\n"
            ],
            "text/html": [
              "<pre style=\"white-space:pre;overflow-x:auto;line-height:normal;font-family:Menlo,'DejaVu Sans Mono',consolas,'Courier New',monospace\"><span style=\"font-weight: bold\"> Trainable params: </span><span style=\"color: #00af00; text-decoration-color: #00af00\">3,310,316</span> (12.63 MB)\n",
              "</pre>\n"
            ]
          },
          "metadata": {}
        },
        {
          "output_type": "display_data",
          "data": {
            "text/plain": [
              "\u001b[1m Non-trainable params: \u001b[0m\u001b[38;5;34m0\u001b[0m (0.00 B)\n"
            ],
            "text/html": [
              "<pre style=\"white-space:pre;overflow-x:auto;line-height:normal;font-family:Menlo,'DejaVu Sans Mono',consolas,'Courier New',monospace\"><span style=\"font-weight: bold\"> Non-trainable params: </span><span style=\"color: #00af00; text-decoration-color: #00af00\">0</span> (0.00 B)\n",
              "</pre>\n"
            ]
          },
          "metadata": {}
        }
      ]
    },
    {
      "cell_type": "code",
      "source": [
        "from tensorflow.keras.preprocessing.image import ImageDataGenerator\n",
        "\n",
        "IMG_SIZE = (128, 128)\n",
        "BATCH_SIZE = 32\n",
        "\n",
        "train_datagen = ImageDataGenerator(rescale=1./255)\n",
        "val_datagen   = ImageDataGenerator(rescale=1./255)\n",
        "\n",
        "train_generator = train_datagen.flow_from_directory(\n",
        "    train_dir,\n",
        "    target_size=IMG_SIZE,\n",
        "    batch_size=BATCH_SIZE,\n",
        "    class_mode='categorical'\n",
        ")\n",
        "\n",
        "val_generator = val_datagen.flow_from_directory(\n",
        "    val_dir,\n",
        "    target_size=IMG_SIZE,\n",
        "    batch_size=BATCH_SIZE,\n",
        "    class_mode='categorical'\n",
        ")\n",
        "\n",
        "num_classes = len(train_generator.class_indices)\n",
        "print(\"Number of classes:\", num_classes)\n",
        "print(\"Classes:\", train_generator.class_indices)\n"
      ],
      "metadata": {
        "colab": {
          "base_uri": "https://localhost:8080/"
        },
        "id": "qMx6DZyhwE1Y",
        "outputId": "fe07ad93-9e8b-4f11-b3d8-881d5f0a39fc"
      },
      "execution_count": null,
      "outputs": [
        {
          "output_type": "stream",
          "name": "stdout",
          "text": [
            "Found 0 images belonging to 1 classes.\n",
            "Found 0 images belonging to 1 classes.\n",
            "Number of classes: 1\n",
            "Classes: {'images for phrases': 0}\n"
          ]
        }
      ]
    },
    {
      "cell_type": "code",
      "source": [
        "history = model.fit(\n",
        "    train_generator,\n",
        "    validation_data=val_generator,\n",
        "    epochs=15\n",
        ")"
      ],
      "metadata": {
        "id": "mbT6DmhVx27Z",
        "colab": {
          "base_uri": "https://localhost:8080/"
        },
        "outputId": "b36915fc-5fa9-44d0-f4d6-303abd8b7a56"
      },
      "execution_count": 5,
      "outputs": [
        {
          "output_type": "stream",
          "name": "stderr",
          "text": [
            "/usr/local/lib/python3.12/dist-packages/keras/src/trainers/data_adapters/py_dataset_adapter.py:121: UserWarning: Your `PyDataset` class should call `super().__init__(**kwargs)` in its constructor. `**kwargs` can include `workers`, `use_multiprocessing`, `max_queue_size`. Do not pass these arguments to `fit()`, as they will be ignored.\n",
            "  self._warn_if_super_not_called()\n"
          ]
        },
        {
          "output_type": "stream",
          "name": "stdout",
          "text": [
            "Epoch 1/15\n",
            "\u001b[1m44/44\u001b[0m \u001b[32m━━━━━━━━━━━━━━━━━━━━\u001b[0m\u001b[37m\u001b[0m \u001b[1m639s\u001b[0m 14s/step - accuracy: 0.0814 - loss: 3.6479 - val_accuracy: 0.7557 - val_loss: 1.2491\n",
            "Epoch 2/15\n",
            "\u001b[1m44/44\u001b[0m \u001b[32m━━━━━━━━━━━━━━━━━━━━\u001b[0m\u001b[37m\u001b[0m \u001b[1m58s\u001b[0m 1s/step - accuracy: 0.6735 - loss: 1.1334 - val_accuracy: 0.9460 - val_loss: 0.2109\n",
            "Epoch 3/15\n",
            "\u001b[1m44/44\u001b[0m \u001b[32m━━━━━━━━━━━━━━━━━━━━\u001b[0m\u001b[37m\u001b[0m \u001b[1m59s\u001b[0m 1s/step - accuracy: 0.8874 - loss: 0.3416 - val_accuracy: 0.9602 - val_loss: 0.1489\n",
            "Epoch 4/15\n",
            "\u001b[1m44/44\u001b[0m \u001b[32m━━━━━━━━━━━━━━━━━━━━\u001b[0m\u001b[37m\u001b[0m \u001b[1m59s\u001b[0m 1s/step - accuracy: 0.9429 - loss: 0.2030 - val_accuracy: 0.9631 - val_loss: 0.1689\n",
            "Epoch 5/15\n",
            "\u001b[1m44/44\u001b[0m \u001b[32m━━━━━━━━━━━━━━━━━━━━\u001b[0m\u001b[37m\u001b[0m \u001b[1m57s\u001b[0m 1s/step - accuracy: 0.9382 - loss: 0.1566 - val_accuracy: 0.9773 - val_loss: 0.1262\n",
            "Epoch 6/15\n",
            "\u001b[1m44/44\u001b[0m \u001b[32m━━━━━━━━━━━━━━━━━━━━\u001b[0m\u001b[37m\u001b[0m \u001b[1m57s\u001b[0m 1s/step - accuracy: 0.9670 - loss: 0.1091 - val_accuracy: 0.9830 - val_loss: 0.1239\n",
            "Epoch 7/15\n",
            "\u001b[1m44/44\u001b[0m \u001b[32m━━━━━━━━━━━━━━━━━━━━\u001b[0m\u001b[37m\u001b[0m \u001b[1m57s\u001b[0m 1s/step - accuracy: 0.9370 - loss: 0.1851 - val_accuracy: 0.9801 - val_loss: 0.1311\n",
            "Epoch 8/15\n",
            "\u001b[1m44/44\u001b[0m \u001b[32m━━━━━━━━━━━━━━━━━━━━\u001b[0m\u001b[37m\u001b[0m \u001b[1m57s\u001b[0m 1s/step - accuracy: 0.9623 - loss: 0.0931 - val_accuracy: 0.9801 - val_loss: 0.1299\n",
            "Epoch 9/15\n",
            "\u001b[1m44/44\u001b[0m \u001b[32m━━━━━━━━━━━━━━━━━━━━\u001b[0m\u001b[37m\u001b[0m \u001b[1m82s\u001b[0m 1s/step - accuracy: 0.9725 - loss: 0.0804 - val_accuracy: 0.9744 - val_loss: 0.1477\n",
            "Epoch 10/15\n",
            "\u001b[1m44/44\u001b[0m \u001b[32m━━━━━━━━━━━━━━━━━━━━\u001b[0m\u001b[37m\u001b[0m \u001b[1m61s\u001b[0m 1s/step - accuracy: 0.9630 - loss: 0.0928 - val_accuracy: 0.9716 - val_loss: 0.1825\n",
            "Epoch 11/15\n",
            "\u001b[1m44/44\u001b[0m \u001b[32m━━━━━━━━━━━━━━━━━━━━\u001b[0m\u001b[37m\u001b[0m \u001b[1m58s\u001b[0m 1s/step - accuracy: 0.9798 - loss: 0.0754 - val_accuracy: 0.9858 - val_loss: 0.1170\n",
            "Epoch 12/15\n",
            "\u001b[1m44/44\u001b[0m \u001b[32m━━━━━━━━━━━━━━━━━━━━\u001b[0m\u001b[37m\u001b[0m \u001b[1m57s\u001b[0m 1s/step - accuracy: 0.9661 - loss: 0.0940 - val_accuracy: 0.9858 - val_loss: 0.1682\n",
            "Epoch 13/15\n",
            "\u001b[1m44/44\u001b[0m \u001b[32m━━━━━━━━━━━━━━━━━━━━\u001b[0m\u001b[37m\u001b[0m \u001b[1m58s\u001b[0m 1s/step - accuracy: 0.9741 - loss: 0.0749 - val_accuracy: 0.9858 - val_loss: 0.1084\n",
            "Epoch 14/15\n",
            "\u001b[1m44/44\u001b[0m \u001b[32m━━━━━━━━━━━━━━━━━━━━\u001b[0m\u001b[37m\u001b[0m \u001b[1m57s\u001b[0m 1s/step - accuracy: 0.9907 - loss: 0.0306 - val_accuracy: 0.9858 - val_loss: 0.1305\n",
            "Epoch 15/15\n",
            "\u001b[1m44/44\u001b[0m \u001b[32m━━━━━━━━━━━━━━━━━━━━\u001b[0m\u001b[37m\u001b[0m \u001b[1m57s\u001b[0m 1s/step - accuracy: 0.9746 - loss: 0.0692 - val_accuracy: 0.9858 - val_loss: 0.1157\n"
          ]
        }
      ]
    },
    {
      "cell_type": "code",
      "source": [
        "import matplotlib.pyplot as plt\n",
        "\n",
        "plt.figure(figsize=(12,5))\n",
        "\n",
        "# Accuracy\n",
        "plt.subplot(1,2,1)\n",
        "plt.plot(history.history['accuracy'], label='Train Acc')\n",
        "plt.plot(history.history['val_accuracy'], label='Val Acc')\n",
        "plt.title('Model Accuracy')\n",
        "plt.xlabel('Epoch')\n",
        "plt.ylabel('Accuracy')\n",
        "plt.legend()\n",
        "\n",
        "# Loss\n",
        "plt.subplot(1,2,2)\n",
        "plt.plot(history.history['loss'], label='Train Loss')\n",
        "plt.plot(history.history['val_loss'], label='Val Loss')\n",
        "plt.title('Model Loss')\n",
        "plt.xlabel('Epoch')\n",
        "plt.ylabel('Loss')\n",
        "plt.legend()\n",
        "\n",
        "plt.show()"
      ],
      "metadata": {
        "colab": {
          "base_uri": "https://localhost:8080/",
          "height": 487
        },
        "id": "C4PRZrHE_axS",
        "outputId": "823fc65e-9ac3-4996-fa8b-138521364734"
      },
      "execution_count": 6,
      "outputs": [
        {
          "output_type": "display_data",
          "data": {
            "text/plain": [
              "<Figure size 1200x500 with 2 Axes>"
            ],
            "image/png": "[encoded data removed]"
          },
          "metadata": {}
        }
      ]
    },
    {
      "cell_type": "code",
      "source": [
        "model.save(\"/content/drive/MyDrive/ISL/isl_sign_model.keras\")\n",
        "print(\"✅ Model saved as isl_sign_model.keras\")"
      ],
      "metadata": {
        "colab": {
          "base_uri": "https://localhost:8080/"
        },
        "id": "Ry1d4K-vF_OY",
        "outputId": "039fcc6f-c115-4bf2-8daa-52ef768d8074"
      },
      "execution_count": 7,
      "outputs": [
        {
          "output_type": "stream",
          "name": "stdout",
          "text": [
            "✅ Model saved as isl_sign_model.keras\n"
          ]
        }
      ]
    },
    {
      "cell_type": "code",
      "source": [
        "class_labels = list(train_generator.class_indices.keys())\n",
        "import numpy as np\n",
        "from tensorflow.keras.preprocessing import image\n",
        "\n",
        "def predict_image(img_path):\n",
        "    img = image.load_img(img_path, target_size=(128,128))\n",
        "    img_array = image.img_to_array(img)/255.0\n",
        "    img_array = np.expand_dims(img_array, axis=0)  # batch dimension\n",
        "\n",
        "    prediction = model.predict(img_array)\n",
        "    predicted_class = class_labels[np.argmax(prediction)]\n",
        "    confidence = np.max(prediction)\n",
        "\n",
        "    print(f\"Predicted: {predicted_class} (Confidence: {confidence:.2f})\")\n",
        "    return predicted_class\n",
        "\n",
        "# Example: test with one of your images\n",
        "test_img = \"/content/drive/MyDrive/ISL/images for phrases/images for phrases/good morning/3.png\"\n",
        "predicted_text = predict_image(test_img)"
      ],
      "metadata": {
        "colab": {
          "base_uri": "https://localhost:8080/"
        },
        "id": "Pt9j7yArGLpY",
        "outputId": "5e723dd2-7266-4294-c277-073ee2850b42"
      },
      "execution_count": 9,
      "outputs": [
        {
          "output_type": "stream",
          "name": "stdout",
          "text": [
            "\u001b[1m1/1\u001b[0m \u001b[32m━━━━━━━━━━━━━━━━━━━━\u001b[0m\u001b[37m\u001b[0m \u001b[1m0s\u001b[0m 61ms/step\n",
            "Predicted: good morning (Confidence: 1.00)\n"
          ]
        }
      ]
    },
    {
      "cell_type": "code",
      "source": [
        "!pip install gTTS\n",
        "from gtts import gTTS\n",
        "import IPython.display as ipd\n",
        "\n",
        "def speak(text):\n",
        "    tts = gTTS(text=text, lang='en')\n",
        "    tts.save(\"output.mp3\")\n",
        "    return ipd.Audio(\"output.mp3\")\n",
        "\n",
        "# Speak the predicted class\n",
        "audio = speak(predicted_text)\n",
        "display(audio)"
      ],
      "metadata": {
        "colab": {
          "base_uri": "https://localhost:8080/",
          "height": 388
        },
        "id": "BALdBL1RGurk",
        "outputId": "9937239f-3afc-47b5-bb59-384201a163e5"
      },
      "execution_count": 10,
      "outputs": [
        {
          "output_type": "stream",
          "name": "stdout",
          "text": [
            "Collecting gTTS\n",
            "  Downloading gTTS-2.5.4-py3-none-any.whl.metadata (4.1 kB)\n",
            "Requirement already satisfied: requests<3,>=2.27 in /usr/local/lib/python3.12/dist-packages (from gTTS) (2.32.4)\n",
            "Collecting click<8.2,>=7.1 (from gTTS)\n",
            "  Downloading click-8.1.8-py3-none-any.whl.metadata (2.3 kB)\n",
            "Requirement already satisfied: charset_normalizer<4,>=2 in /usr/local/lib/python3.12/dist-packages (from requests<3,>=2.27->gTTS) (3.4.3)\n",
            "Requirement already satisfied: idna<4,>=2.5 in /usr/local/lib/python3.12/dist-packages (from requests<3,>=2.27->gTTS) (3.10)\n",
            "Requirement already satisfied: urllib3<3,>=1.21.1 in /usr/local/lib/python3.12/dist-packages (from requests<3,>=2.27->gTTS) (2.5.0)\n",
            "Requirement already satisfied: certifi>=2017.4.17 in /usr/local/lib/python3.12/dist-packages (from requests<3,>=2.27->gTTS) (2025.8.3)\n",
            "Downloading gTTS-2.5.4-py3-none-any.whl (29 kB)\n",
            "Downloading click-8.1.8-py3-none-any.whl (98 kB)\n",
            "\u001b[?25l   \u001b[90m━━━━━━━━━━━━━━━━━━━━━━━━━━━━━━━━━━━━━━━━\u001b[0m \u001b[32m0.0/98.2 kB\u001b[0m \u001b[31m?\u001b[0m eta \u001b[36m-:--:--\u001b[0m\r\u001b[2K   \u001b[90m━━━━━━━━━━━━━━━━━━━━━━━━━━━━━━━━━━━━━━━━\u001b[0m \u001b[32m98.2/98.2 kB\u001b[0m \u001b[31m6.8 MB/s\u001b[0m eta \u001b[36m0:00:00\u001b[0m\n",
            "\u001b[?25hInstalling collected packages: click, gTTS\n",
            "  Attempting uninstall: click\n",
            "    Found existing installation: click 8.2.1\n",
            "    Uninstalling click-8.2.1:\n",
            "      Successfully uninstalled click-8.2.1\n",
            "Successfully installed click-8.1.8 gTTS-2.5.4\n"
          ]
        },
        {
          "output_type": "display_data",
          "data": {
            "text/plain": [
              "<IPython.lib.display.Audio object>"
            ],
            "text/html": [
              "\n",
              "                <audio  controls=\"controls\" >\n",
              "                    <source src=\"data:audio/mpeg;base64,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\" type=\"audio/mpeg\" />\n",
              "                    Your browser does not support the audio element.\n",
              "                </audio>\n",
              "              "
            ]
          },
          "metadata": {}
        }
      ]
    },
    {
      "cell_type": "code",
      "source": [],
      "metadata": {
        "id": "ATGp91fQHxTS"
      },
      "execution_count": null,
      "outputs": []
    }
  ]
}